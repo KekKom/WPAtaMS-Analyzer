{
 "cells": [
  {
   "cell_type": "markdown",
   "metadata": {},
   "source": [
    "# WELCOME TO ATTEMPT **3** of **\"*THE MOST AUTISTIC THING I HAVE DONE, LIKE, EVER*\"**\n",
    "\n",
    "This is mostly attempt 2 again, **note to self, backups are not optional**.\n",
    "The whole attempt 2/3 is due to v1's failings, but a bit of a recap first.\n",
    "\n",
    "## Recap\n",
    "This whole endevour is to check definitely how much time has passed in the webserial *\"Wearing Power Armor to a Magic School\"* written by **JCB112** (or `WPatMS` for short), the other goal is to predict in which chapter a *\"communication deadline\"* which happens 5 weeks after the beginning of the book.\n",
    "\n",
    "Thanks to a **TON** of manual analysis we know that the book can't start any earier than 15:30 on the first day\n",
    "\n",
    "## V1 Sucesses\n",
    "As much as V1 was flawed from the start it did a bit of good:\n",
    "1. **THE GRAPHS**, v1 gave us some very good graphs, even though they were a bit wonky in places *(the X-axis)*\n",
    "2. It helped greately with the manual analysis\n",
    "3. It proved that this way of parsing the timestamps can work\n",
    "\n",
    "## V1 Problems\n",
    "This is a bit easier than the above section:\n",
    "1. The creation of html files and only then parsing them is a stupid idea. It would have some merit, if any changes would be made for these files, but such a thing was just not done\n",
    "2. The jupyter notebook changed some variables in a cell, which did not have the definition, this made the code require a full restart on every run, as running it twice changed some variables\n",
    "3. The code was not portable, the creation of the html files and the folders, required the use of some linux only commands, i want to change that by ... just not having any files saved\n",
    "4. **THE GRAPHS™** all have a wonky x-axes, this is due to x being \"event index\" and not \"chapter\". This was easier, but it makes everything harder to understand\n",
    "\n",
    "## V2 Failings\n",
    "Ok this will be short. ***BACKUPS***.\n",
    "\n",
    "So I opened a vscode server, connect to it from school (this is after *4 fucking days of coding*) **AND IT FUCKING DELETES THE WHOLE FUCKING FILE**\n",
    "\n",
    "As to the fix, this is a git repo.\n",
    "\n",
    "The second main failing was keeping the use of timestamps, and not just \"minutes after midnight\".\n",
    "\n",
    "## V3 - Functional description\n",
    "\n",
    "1. Parse the epub (it will be XHTML), as a list called `book` containing `chapters` that are a list of lines\n",
    "2. Search for timestamps\n",
    "3. Convert the timestamps to \"minutes after midnight\n",
    "4. Do some graphs\n",
    "5. Find the amount of days that passed\n",
    "6. Find the chapter, where the deadline passes"
   ]
  },
  {
   "cell_type": "markdown",
   "metadata": {},
   "source": []
  }
 ],
 "metadata": {
  "language_info": {
   "name": "python"
  }
 },
 "nbformat": 4,
 "nbformat_minor": 2
}
