{
 "cells": [
  {
   "cell_type": "markdown",
   "metadata": {},
   "source": [
    "# WELCOME TO ATTEMPT **3** of **\"*THE MOST AUTISTIC THING I HAVE DONE, LIKE, EVER*\"**\n",
    "\n",
    "This is mostly attempt 2 again, **note to self, backups are not optional**.\n",
    "The whole attempt 2/3 is due to v1's failings, but a bit of a recap first.\n",
    "\n",
    "## Recap\n",
    "This whole endevour is to check definitely how much time has passed in the webserial *\"Wearing Power Armor to a Magic School\"* written by **JCB112** (or `WPatMS` for short), the other goal is to predict in which chapter a *\"communication deadline\"* which happens 5 weeks after the beginning of the book.\n",
    "\n",
    "Thanks to a **TON** of manual analysis we know that the book can't start any earier than 15:30 on the first day\n",
    "\n",
    "## V1 Sucesses\n",
    "As much as V1 was flawed from the start it did a bit of good:\n",
    "1. **THE GRAPHS**, v1 gave us some very good graphs, even though they were a bit wonky in places *(the X-axis)*\n",
    "2. It helped greately with the manual analysis\n",
    "3. It proved that this way of parsing the timestamps can work\n",
    "\n",
    "## V1 Problems\n",
    "This is a bit easier than the above section:\n",
    "1. The creation of html files and only then parsing them is a stupid idea. It would have some merit, if any changes would be made for these files, but such a thing was just not done\n",
    "2. The jupyter notebook changed some variables in a cell, which did not have the definition, this made the code require a full restart on every run, as running it twice changed some variables\n",
    "3. The code was not portable, the creation of the html files and the folders, required the use of some linux only commands, i want to change that by ... just not having any files saved\n",
    "4. **THE GRAPHS™** all have a wonky x-axes, this is due to x being \"event index\" and not \"chapter\". This was easier, but it makes everything harder to understand\n",
    "\n",
    "## V2 Failings\n",
    "Ok this will be short. ***BACKUPS***.\n",
    "\n",
    "So I opened a vscode server, connect to it from school (this is after *4 fucking days of coding*) **AND IT FUCKING DELETES THE WHOLE FUCKING FILE**\n",
    "\n",
    "As to the fix, this is a git repo.\n",
    "\n",
    "The second main failing was keeping the use of timestamps, and not just \"minutes after midnight\".\n",
    "\n",
    "## V3 - Functional description\n",
    "\n",
    "1. Parse the epub (it will be XHTML), as a list called `book` containing `chapters` that are a list of lines\n",
    "2. Search for timestamps\n",
    "3. Convert the timestamps to \"minutes after midnight\n",
    "4. Do some graphs\n",
    "5. Find the amount of days that passed\n",
    "6. Find the chapter, where the deadline passes"
   ]
  },
  {
   "cell_type": "markdown",
   "metadata": {},
   "source": [
    "# Install of the required libraries\n",
    "This code uses 2 libraries, namely [EbookLib](https://pypi.org/project/EbookLib/) and [matPlotLib](https://matplotlib.org/)"
   ]
  },
  {
   "cell_type": "code",
   "execution_count": 28,
   "metadata": {},
   "outputs": [],
   "source": [
    "%%capture\n",
    "# the %%capture thing makes the output supressed, on first run you might want to comment that out\n",
    "\n",
    "# install the used libraries, thank god for FOSS\n",
    "%pip install EbookLib\n",
    "%pip install matplotlib"
   ]
  },
  {
   "cell_type": "markdown",
   "metadata": {},
   "source": [
    "## Epub extraction\n",
    "This cell extracts the `WPAtaMS.epub` file.\n",
    "\n",
    "The code is a modified version of the example from [here](http://docs.sourcefabric.org/projects/ebooklib/en/latest/tutorial.html#reading-epub).\n",
    "\n",
    "But `chapter.get_body_content()` gives a bytestring, so we change that to a utf-8 encoded string, and then split to lines"
   ]
  },
  {
   "cell_type": "code",
   "execution_count": 29,
   "metadata": {},
   "outputs": [
    {
     "name": "stderr",
     "output_type": "stream",
     "text": [
      "/home/rim/Desktop/WPAtaMS-Analyzer/.venv/lib/python3.10/site-packages/ebooklib/epub.py:1395: UserWarning: In the future version we will turn default option ignore_ncx to True.\n",
      "  warnings.warn('In the future version we will turn default option ignore_ncx to True.')\n",
      "/home/rim/Desktop/WPAtaMS-Analyzer/.venv/lib/python3.10/site-packages/ebooklib/epub.py:1423: FutureWarning: This search incorrectly ignores the root element, and will be fixed in a future version.  If you rely on the current behaviour, change it to './/xmlns:rootfile[@media-type]'\n",
      "  for root_file in tree.findall('//xmlns:rootfile[@media-type]', namespaces={'xmlns': NAMESPACES['CONTAINERNS']}):\n"
     ]
    },
    {
     "data": {
      "text/plain": [
       "['',\n",
       " '  <h1>Chapter 1: Second Contact</h1>',\n",
       " '  <div class=\"chapter-inner chapter-content\">',\n",
       " '                <p class=\"\"><span style=\"font-weight: 400\">There was a lot of fanfare that surrounded the first human to have made it to the Academy. Though it wasn’t because they were particularly well liked, or studious. Nor was it because they were in some way infamous or unsavory. In fact, they simply hadn’t had enough time to make an impact either way, as they’d emerged through the portal dead on arrival.</span></p>',\n",
       " '<p class=\"\"><span style=\"font-weight: 400\">It was a known fact that humans were just inherently magically-deficient. Their race was the last of the adjacent realms to have even detected the </span><em><span style=\"font-weight: 400\">existence</span></em><span style=\"font-weight: 400\"> of magic after all, let alone learning of the Nexus’ existence. What wasn’t expected however was just how truly deficient they actually </span><em><span style=\"font-weight: 400\">were</span></em><span style=\"font-weight: 400\">, as the death of the first human student was directly attributed to their inability to not only control, but to </span><em><span style=\"font-weight: 400\">resist</span></em><span style=\"font-weight: 400\"> the effects of latent mana. A feat that was supposed to be inherent in </span><em><span style=\"font-weight: 400\">all</span></em><span style=\"font-weight: 400\"> living things, as the soul naturally projected a mana-field which prevented the flow of latent mana from entering or passing through it. Yet members of the faculty and staff present at the tragedy could attest to this universal truth being missing in the humans, or at least the human student, as his soul projected </span><em><span style=\"font-weight: 400\">nothing</span></em><span style=\"font-weight: 400\">, causing what should have been harmless mana to simply seep through him like a filter. Destroying the physical body, and mortally wounding the intangible spirit in the process.</span></p>']"
      ]
     },
     "execution_count": 29,
     "metadata": {},
     "output_type": "execute_result"
    }
   ],
   "source": [
    "import ebooklib\n",
    "from ebooklib import epub\n",
    "\n",
    "bookFile = epub.read_epub(\"./WPAtaMS.epub\")\n",
    "\n",
    "book = []\n",
    "\n",
    "for chapter in bookFile.get_items_of_type(ebooklib.ITEM_DOCUMENT):\n",
    "    byteChapter = chapter.get_body_content()\n",
    "    strChapter = str(byteChapter,'UTF-8')\n",
    "    book.append(strChapter.split('\\n'))\n",
    "\n",
    "book[1][:5]"
   ]
  },
  {
   "cell_type": "markdown",
   "metadata": {},
   "source": [
    "## Parsing\n",
    "To parse we first need to search for the timestamp, it is always given in either `hhmm` or `hh:mm` format. But always (excluding one time), the timestamp is preceeded at some point by the word `time`, in the same line, we will search for both.\n",
    "\n",
    "The timestamp seach will be done using a regex, namely this one\n",
    "```regex\n",
    "   /([01][0-9]|2[0-3])[0-5][0-9]|([01][0-9]|2[0-3]):[0-5][0-9]/\n",
    "```"
   ]
  }
 ],
 "metadata": {
  "kernelspec": {
   "display_name": ".venv",
   "language": "python",
   "name": "python3"
  },
  "language_info": {
   "codemirror_mode": {
    "name": "ipython",
    "version": 3
   },
   "file_extension": ".py",
   "mimetype": "text/x-python",
   "name": "python",
   "nbconvert_exporter": "python",
   "pygments_lexer": "ipython3",
   "version": "3.10.12"
  }
 },
 "nbformat": 4,
 "nbformat_minor": 2
}
